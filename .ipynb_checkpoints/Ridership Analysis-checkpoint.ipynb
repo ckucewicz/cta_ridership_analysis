{
 "cells": [
  {
   "cell_type": "markdown",
   "id": "a243d3ed",
   "metadata": {},
   "source": [
    "## Data Analysis"
   ]
  },
  {
   "cell_type": "code",
   "execution_count": 1,
   "id": "239f7e58",
   "metadata": {},
   "outputs": [],
   "source": [
    "import pandas as pd\n",
    "import seaborn as sns"
   ]
  },
  {
   "cell_type": "code",
   "execution_count": 2,
   "id": "2af8333c",
   "metadata": {},
   "outputs": [],
   "source": [
    "ridership_data = pd.read_csv('data/final_ridership.csv')"
   ]
  },
  {
   "cell_type": "code",
   "execution_count": 9,
   "id": "bfb19a64",
   "metadata": {},
   "outputs": [
    {
     "data": {
      "text/html": [
       "<div>\n",
       "<style scoped>\n",
       "    .dataframe tbody tr th:only-of-type {\n",
       "        vertical-align: middle;\n",
       "    }\n",
       "\n",
       "    .dataframe tbody tr th {\n",
       "        vertical-align: top;\n",
       "    }\n",
       "\n",
       "    .dataframe thead th {\n",
       "        text-align: right;\n",
       "    }\n",
       "</style>\n",
       "<table border=\"1\" class=\"dataframe\">\n",
       "  <thead>\n",
       "    <tr style=\"text-align: right;\">\n",
       "      <th></th>\n",
       "      <th>station_id</th>\n",
       "      <th>map_id</th>\n",
       "      <th>station_descriptive_name</th>\n",
       "      <th>ride_date</th>\n",
       "      <th>day_type</th>\n",
       "      <th>rides</th>\n",
       "      <th>ada_approved</th>\n",
       "      <th>red</th>\n",
       "      <th>blue</th>\n",
       "      <th>green</th>\n",
       "      <th>brownn</th>\n",
       "      <th>purple</th>\n",
       "      <th>pexp</th>\n",
       "      <th>yellow</th>\n",
       "      <th>pnk</th>\n",
       "      <th>orange</th>\n",
       "      <th>location</th>\n",
       "      <th>year_month</th>\n",
       "    </tr>\n",
       "  </thead>\n",
       "  <tbody>\n",
       "    <tr>\n",
       "      <th>0</th>\n",
       "      <td>41090</td>\n",
       "      <td>41090</td>\n",
       "      <td>Monroe (Red Line)</td>\n",
       "      <td>2024-07-27</td>\n",
       "      <td>A</td>\n",
       "      <td>2961</td>\n",
       "      <td>f</td>\n",
       "      <td>t</td>\n",
       "      <td>f</td>\n",
       "      <td>f</td>\n",
       "      <td>f</td>\n",
       "      <td>f</td>\n",
       "      <td>f</td>\n",
       "      <td>f</td>\n",
       "      <td>f</td>\n",
       "      <td>f</td>\n",
       "      <td>(41.880745, -87.627696)</td>\n",
       "      <td>2024-07</td>\n",
       "    </tr>\n",
       "    <tr>\n",
       "      <th>1</th>\n",
       "      <td>41090</td>\n",
       "      <td>41090</td>\n",
       "      <td>Monroe (Red Line)</td>\n",
       "      <td>2024-07-31</td>\n",
       "      <td>W</td>\n",
       "      <td>5017</td>\n",
       "      <td>f</td>\n",
       "      <td>t</td>\n",
       "      <td>f</td>\n",
       "      <td>f</td>\n",
       "      <td>f</td>\n",
       "      <td>f</td>\n",
       "      <td>f</td>\n",
       "      <td>f</td>\n",
       "      <td>f</td>\n",
       "      <td>f</td>\n",
       "      <td>(41.880745, -87.627696)</td>\n",
       "      <td>2024-07</td>\n",
       "    </tr>\n",
       "    <tr>\n",
       "      <th>2</th>\n",
       "      <td>41120</td>\n",
       "      <td>41120</td>\n",
       "      <td>35th-Bronzeville-IIT (Green Line)</td>\n",
       "      <td>2024-07-27</td>\n",
       "      <td>A</td>\n",
       "      <td>643</td>\n",
       "      <td>t</td>\n",
       "      <td>f</td>\n",
       "      <td>f</td>\n",
       "      <td>t</td>\n",
       "      <td>f</td>\n",
       "      <td>f</td>\n",
       "      <td>f</td>\n",
       "      <td>f</td>\n",
       "      <td>f</td>\n",
       "      <td>f</td>\n",
       "      <td>(41.831677, -87.625826)</td>\n",
       "      <td>2024-07</td>\n",
       "    </tr>\n",
       "    <tr>\n",
       "      <th>3</th>\n",
       "      <td>41120</td>\n",
       "      <td>41120</td>\n",
       "      <td>35th-Bronzeville-IIT (Green Line)</td>\n",
       "      <td>2024-07-31</td>\n",
       "      <td>W</td>\n",
       "      <td>980</td>\n",
       "      <td>t</td>\n",
       "      <td>f</td>\n",
       "      <td>f</td>\n",
       "      <td>t</td>\n",
       "      <td>f</td>\n",
       "      <td>f</td>\n",
       "      <td>f</td>\n",
       "      <td>f</td>\n",
       "      <td>f</td>\n",
       "      <td>f</td>\n",
       "      <td>(41.831677, -87.625826)</td>\n",
       "      <td>2024-07</td>\n",
       "    </tr>\n",
       "    <tr>\n",
       "      <th>4</th>\n",
       "      <td>41130</td>\n",
       "      <td>41130</td>\n",
       "      <td>Halsted (Orange Line)</td>\n",
       "      <td>2024-07-07</td>\n",
       "      <td>U</td>\n",
       "      <td>799</td>\n",
       "      <td>t</td>\n",
       "      <td>f</td>\n",
       "      <td>f</td>\n",
       "      <td>f</td>\n",
       "      <td>f</td>\n",
       "      <td>f</td>\n",
       "      <td>f</td>\n",
       "      <td>f</td>\n",
       "      <td>f</td>\n",
       "      <td>t</td>\n",
       "      <td>(41.84678, -87.648088)</td>\n",
       "      <td>2024-07</td>\n",
       "    </tr>\n",
       "  </tbody>\n",
       "</table>\n",
       "</div>"
      ],
      "text/plain": [
       "   station_id  map_id           station_descriptive_name  ride_date day_type  \\\n",
       "0       41090   41090                  Monroe (Red Line) 2024-07-27        A   \n",
       "1       41090   41090                  Monroe (Red Line) 2024-07-31        W   \n",
       "2       41120   41120  35th-Bronzeville-IIT (Green Line) 2024-07-27        A   \n",
       "3       41120   41120  35th-Bronzeville-IIT (Green Line) 2024-07-31        W   \n",
       "4       41130   41130              Halsted (Orange Line) 2024-07-07        U   \n",
       "\n",
       "   rides ada_approved red blue green brownn purple pexp yellow pnk orange  \\\n",
       "0   2961            f   t    f     f      f      f    f      f   f      f   \n",
       "1   5017            f   t    f     f      f      f    f      f   f      f   \n",
       "2    643            t   f    f     t      f      f    f      f   f      f   \n",
       "3    980            t   f    f     t      f      f    f      f   f      f   \n",
       "4    799            t   f    f     f      f      f    f      f   f      t   \n",
       "\n",
       "                  location year_month  \n",
       "0  (41.880745, -87.627696)    2024-07  \n",
       "1  (41.880745, -87.627696)    2024-07  \n",
       "2  (41.831677, -87.625826)    2024-07  \n",
       "3  (41.831677, -87.625826)    2024-07  \n",
       "4   (41.84678, -87.648088)    2024-07  "
      ]
     },
     "execution_count": 9,
     "metadata": {},
     "output_type": "execute_result"
    }
   ],
   "source": [
    "ridership_data.head()"
   ]
  },
  {
   "cell_type": "code",
   "execution_count": 4,
   "id": "d8d7a8fd",
   "metadata": {},
   "outputs": [],
   "source": [
    "ridership_data['ride_date'] = pd.to_datetime(ridership_data['ride_date'])"
   ]
  },
  {
   "cell_type": "code",
   "execution_count": 5,
   "id": "32df5c34",
   "metadata": {},
   "outputs": [
    {
     "name": "stdout",
     "output_type": "stream",
     "text": [
      "<class 'pandas.core.frame.DataFrame'>\n",
      "RangeIndex: 1251166 entries, 0 to 1251165\n",
      "Data columns (total 17 columns):\n",
      " #   Column                    Non-Null Count    Dtype         \n",
      "---  ------                    --------------    -----         \n",
      " 0   station_id                1251166 non-null  int64         \n",
      " 1   map_id                    1251166 non-null  int64         \n",
      " 2   station_descriptive_name  1251166 non-null  object        \n",
      " 3   ride_date                 1251166 non-null  datetime64[ns]\n",
      " 4   day_type                  1251166 non-null  object        \n",
      " 5   rides                     1251166 non-null  int64         \n",
      " 6   ada_approved              1251166 non-null  object        \n",
      " 7   red                       1251166 non-null  object        \n",
      " 8   blue                      1251166 non-null  object        \n",
      " 9   green                     1251166 non-null  object        \n",
      " 10  brownn                    1251166 non-null  object        \n",
      " 11  purple                    1251166 non-null  object        \n",
      " 12  pexp                      1251166 non-null  object        \n",
      " 13  yellow                    1251166 non-null  object        \n",
      " 14  pnk                       1251166 non-null  object        \n",
      " 15  orange                    1251166 non-null  object        \n",
      " 16  location                  1251166 non-null  object        \n",
      "dtypes: datetime64[ns](1), int64(3), object(13)\n",
      "memory usage: 162.3+ MB\n"
     ]
    }
   ],
   "source": [
    "ridership_data.info()"
   ]
  },
  {
   "cell_type": "code",
   "execution_count": 6,
   "id": "51d71cc4",
   "metadata": {},
   "outputs": [
    {
     "data": {
      "image/png": "[encoded data removed]",
      "text/plain": [
       "<Figure size 640x480 with 1 Axes>"
      ]
     },
     "metadata": {},
     "output_type": "display_data"
    }
   ],
   "source": [
    "ridership_data['rides'].hist();"
   ]
  },
  {
   "cell_type": "markdown",
   "id": "c60d80ef",
   "metadata": {},
   "source": [
    "## Questions\n",
    "How has ridership changed over time? Has it recovered to pre-COVID levels?\n",
    "Which lines are the most ADA accessible? (Measured by the number of ADA-accessible stations per line)\n",
    "Which lines and stations are the busiest? And the least busy?"
   ]
  },
  {
   "cell_type": "code",
   "execution_count": 7,
   "id": "5d421e72",
   "metadata": {},
   "outputs": [],
   "source": [
    "# how has ridership changed over time?\n",
    "# ridership averages by month pre-COVID vs ridership averages by month Post-COVID\n",
    "\n",
    "# Steps: \n",
    "# 1. separate into 2 groups: Pre-covid and Post-covid\n",
    "# 2. Within each group, organize by month\n",
    "# 3. Find the average for each month\n",
    "\n",
    "# pre-covid: Pre-March 2020\n",
    "# post-covid: Post-May 2023"
   ]
  },
  {
   "cell_type": "code",
   "execution_count": 13,
   "id": "f9e5fb1e",
   "metadata": {},
   "outputs": [],
   "source": [
    "# Extract year and month from ride_date\n",
    "ridership_data['year'] = ridership_data['ride_date'].dt.year\n",
    "ridership_data['month'] = ridership_data['ride_date'].dt.month"
   ]
  },
  {
   "cell_type": "code",
   "execution_count": 14,
   "id": "19e9179a",
   "metadata": {},
   "outputs": [],
   "source": [
    "# creates slices of ridership_data representing pre- and post-covid\n",
    "pre_covid = ridership_data[\n",
    "    (ridership_data['year'] < 2020) |\n",
    "    ((ridership_data['year'] == 2020) & (ridership_data['month'] < 3))\n",
    "]\n",
    "\n",
    "post_covid = ridership_data[\n",
    "    (ridership_data['year'] > 2023) |\n",
    "    ((ridership_data['year'] == 2023) & (ridership_data['month'] > 5))\n",
    "]"
   ]
  },
  {
   "cell_type": "code",
   "execution_count": 17,
   "id": "875adf1d",
   "metadata": {},
   "outputs": [
    {
     "data": {
      "text/plain": [
       "14077404.465217391"
      ]
     },
     "execution_count": 17,
     "metadata": {},
     "output_type": "execute_result"
    }
   ],
   "source": [
    "# group by year and month, then aggregate total monthly rides\n",
    "pre_covid_monthly = (\n",
    "    pre_covid\n",
    "    .groupby(pre_covid['ride_date'].dt.to_period('M'))['rides']\n",
    "    .sum()\n",
    "    .reset_index()\n",
    "    .rename(columns = {'ride_date': 'month', 'rides': 'total_rides'})\n",
    ")\n",
    "\n",
    "pre_covid_monthly['total_rides'].mean()"
   ]
  },
  {
   "cell_type": "code",
   "execution_count": null,
   "id": "351134bc",
   "metadata": {},
   "outputs": [],
   "source": []
  },
  {
   "cell_type": "code",
   "execution_count": null,
   "id": "6037c22d",
   "metadata": {},
   "outputs": [],
   "source": []
  },
  {
   "cell_type": "code",
   "execution_count": null,
   "id": "e5bec1aa",
   "metadata": {},
   "outputs": [],
   "source": []
  },
  {
   "cell_type": "code",
   "execution_count": null,
   "id": "0fccd14b",
   "metadata": {},
   "outputs": [],
   "source": []
  }
 ],
 "metadata": {
  "kernelspec": {
   "display_name": "Python 3 (ipykernel)",
   "language": "python",
   "name": "python3"
  },
  "language_info": {
   "codemirror_mode": {
    "name": "ipython",
    "version": 3
   },
   "file_extension": ".py",
   "mimetype": "text/x-python",
   "name": "python",
   "nbconvert_exporter": "python",
   "pygments_lexer": "ipython3",
   "version": "3.8.5"
  }
 },
 "nbformat": 4,
 "nbformat_minor": 5
}
